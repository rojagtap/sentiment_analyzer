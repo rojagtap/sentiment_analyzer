{
  "nbformat": 4,
  "nbformat_minor": 0,
  "metadata": {
    "colab": {
      "name": "sentiment_analyzer.ipynb",
      "version": "0.3.2",
      "provenance": []
    },
    "kernelspec": {
      "name": "python3",
      "display_name": "Python 3"
    },
    "accelerator": "GPU"
  },
  "cells": [
    {
      "metadata": {
        "id": "SShMt6EUB4ZC",
        "colab_type": "code",
        "outputId": "028ab663-7a03-4d5b-dec0-792d14104da6",
        "colab": {
          "base_uri": "https://localhost:8080/",
          "height": 54
        }
      },
      "cell_type": "code",
      "source": [
        "from google.colab import drive\n",
        "drive.mount('/content/gdrive')"
      ],
      "execution_count": 35,
      "outputs": [
        {
          "output_type": "stream",
          "text": [
            "Drive already mounted at /content/gdrive; to attempt to forcibly remount, call drive.mount(\"/content/gdrive\", force_remount=True).\n"
          ],
          "name": "stdout"
        }
      ]
    },
    {
      "metadata": {
        "id": "CnCRJgsHB-kW",
        "colab_type": "code",
        "colab": {}
      },
      "cell_type": "code",
      "source": [
        "import tflearn\n",
        "from tflearn.data_utils import pad_sequences, to_categorical\n",
        "from tflearn.datasets import imdb"
      ],
      "execution_count": 0,
      "outputs": []
    },
    {
      "metadata": {
        "id": "MYKMYBjHjJhO",
        "colab_type": "code",
        "colab": {}
      },
      "cell_type": "code",
      "source": [
        "train, test, _ = imdb.load_data(path='/content/gdrive/My Drive/Colab Notebooks/data/sentiment_analyzer/imdb.pkl', n_words=10000)"
      ],
      "execution_count": 0,
      "outputs": []
    },
    {
      "metadata": {
        "id": "ZBMXzNIlkKOw",
        "colab_type": "code",
        "colab": {}
      },
      "cell_type": "code",
      "source": [
        "trainX, trainY = train\n",
        "testX, testY = test"
      ],
      "execution_count": 0,
      "outputs": []
    },
    {
      "metadata": {
        "id": "NcfO0Vubkz0x",
        "colab_type": "code",
        "colab": {}
      },
      "cell_type": "code",
      "source": [
        "trainX = pad_sequences(trainX, maxlen=100)\n",
        "testX = pad_sequences(testX, maxlen=100)"
      ],
      "execution_count": 0,
      "outputs": []
    },
    {
      "metadata": {
        "id": "SYdSVKbnleZI",
        "colab_type": "code",
        "colab": {}
      },
      "cell_type": "code",
      "source": [
        "trainY = to_categorical(trainY, nb_classes=2)\n",
        "testY = to_categorical(testY, nb_classes=2)"
      ],
      "execution_count": 0,
      "outputs": []
    },
    {
      "metadata": {
        "id": "Ux9fmcuZlt6I",
        "colab_type": "code",
        "colab": {}
      },
      "cell_type": "code",
      "source": [
        "net = tflearn.input_data(shape=[None, 100])\n",
        "net = tflearn.embedding(net, input_dim=10000, output_dim=2048)\n",
        "net = tflearn.lstm(net, n_units=2048, dropout=0.8)\n",
        "net = tflearn.fully_connected(net, n_units=2, activation='softmax')\n",
        "net = tflearn.regression(net, learning_rate=0.0001)"
      ],
      "execution_count": 0,
      "outputs": []
    },
    {
      "metadata": {
        "id": "_Df-bWqtoxX9",
        "colab_type": "code",
        "colab": {}
      },
      "cell_type": "code",
      "source": [
        "model = tflearn.DNN(net, tensorboard_verbose=0)"
      ],
      "execution_count": 0,
      "outputs": []
    },
    {
      "metadata": {
        "id": "oOQ0IrTDqNDq",
        "colab_type": "code",
        "outputId": "590a7e36-af43-4bfa-edac-83c922bfd56b",
        "colab": {
          "base_uri": "https://localhost:8080/",
          "height": 101
        }
      },
      "cell_type": "code",
      "source": [
        "model.fit(trainX, trainY, validation_set=(testX, testY), show_metric=True, batch_size=24)"
      ],
      "execution_count": 9,
      "outputs": [
        {
          "output_type": "stream",
          "text": [
            "Training Step: 9379  | total loss: \u001b[1m\u001b[32m0.00526\u001b[0m\u001b[0m | time: 628.197s\n",
            "| Adam | epoch: 010 | loss: 0.00526 - acc: 0.9995 -- iter: 22488/22500\n",
            "Training Step: 9380  | total loss: \u001b[1m\u001b[32m0.00544\u001b[0m\u001b[0m | time: 638.304s\n",
            "| Adam | epoch: 010 | loss: 0.00544 - acc: 0.9996 | val_loss: 1.19827 - val_acc: 0.8016 -- iter: 22500/22500\n",
            "--\n"
          ],
          "name": "stdout"
        }
      ]
    },
    {
      "metadata": {
        "id": "jg92esOLOPKF",
        "colab_type": "code",
        "colab": {}
      },
      "cell_type": "code",
      "source": [
        ""
      ],
      "execution_count": 0,
      "outputs": []
    }
  ]
}