{
 "cells": [
  {
   "cell_type": "code",
   "execution_count": 35,
   "metadata": {
    "colab": {
     "base_uri": "https://localhost:8080/",
     "height": 54
    },
    "colab_type": "code",
    "id": "SShMt6EUB4ZC",
    "outputId": "028ab663-7a03-4d5b-dec0-792d14104da6"
   },
   "outputs": [
    {
     "name": "stdout",
     "output_type": "stream",
     "text": [
      "Drive already mounted at /content/gdrive; to attempt to forcibly remount, call drive.mount(\"/content/gdrive\", force_remount=True).\n"
     ]
    }
   ],
   "source": [
    "from google.colab import drive\n",
    "drive.mount('/content/gdrive')"
   ]
  },
  {
   "cell_type": "code",
   "execution_count": null,
   "metadata": {
    "colab": {},
    "colab_type": "code",
    "id": "CnCRJgsHB-kW"
   },
   "outputs": [],
   "source": [
    "import tflearn\n",
    "from tflearn.data_utils import pad_sequences, to_categorical\n",
    "from tflearn.datasets import imdb"
   ]
  },
  {
   "cell_type": "markdown",
   "metadata": {},
   "source": [
    "### Load IMDB movie review dataset"
   ]
  },
  {
   "cell_type": "code",
   "execution_count": null,
   "metadata": {
    "colab": {},
    "colab_type": "code",
    "id": "MYKMYBjHjJhO"
   },
   "outputs": [],
   "source": [
    "train, test, _ = imdb.load_data(path='/content/gdrive/My Drive/Colab Notebooks/data/sentiment_analyzer/imdb.pkl', n_words=10000)"
   ]
  },
  {
   "cell_type": "code",
   "execution_count": null,
   "metadata": {
    "colab": {},
    "colab_type": "code",
    "id": "ZBMXzNIlkKOw"
   },
   "outputs": [],
   "source": [
    "trainX, trainY = train\n",
    "testX, testY = test"
   ]
  },
  {
   "cell_type": "markdown",
   "metadata": {},
   "source": [
    "### Create sections with max length 100 per section by padding data within a section by 0s"
   ]
  },
  {
   "cell_type": "code",
   "execution_count": null,
   "metadata": {
    "colab": {},
    "colab_type": "code",
    "id": "NcfO0Vubkz0x"
   },
   "outputs": [],
   "source": [
    "trainX = pad_sequences(trainX, maxlen=100)\n",
    "testX = pad_sequences(testX, maxlen=100)"
   ]
  },
  {
   "cell_type": "markdown",
   "metadata": {},
   "source": [
    "### Two Categories: Positive or Negative"
   ]
  },
  {
   "cell_type": "code",
   "execution_count": null,
   "metadata": {
    "colab": {},
    "colab_type": "code",
    "id": "SYdSVKbnleZI"
   },
   "outputs": [],
   "source": [
    "trainY = to_categorical(trainY, nb_classes=2)\n",
    "testY = to_categorical(testY, nb_classes=2)"
   ]
  },
  {
   "cell_type": "markdown",
   "metadata": {},
   "source": [
    "#### Input Layer => Embedding Layer => LSTM Layer(recurrent) => Fully Connected => Sigmoid => Output\n",
    "\n",
    "<img src=\"https://cdn-images-1.medium.com/max/1000/1*SICYykT7ybua1gVJDNlajw.png\">"
   ]
  },
  {
   "cell_type": "code",
   "execution_count": null,
   "metadata": {
    "colab": {},
    "colab_type": "code",
    "id": "Ux9fmcuZlt6I"
   },
   "outputs": [],
   "source": [
    "net = tflearn.input_data(shape=[None, 100])\n",
    "net = tflearn.embedding(net, input_dim=10000, output_dim=2048)\n",
    "net = tflearn.lstm(net, n_units=2048, dropout=0.8)\n",
    "net = tflearn.fully_connected(net, n_units=2, activation='softmax')\n",
    "net = tflearn.regression(net, learning_rate=0.0001)"
   ]
  },
  {
   "cell_type": "code",
   "execution_count": null,
   "metadata": {
    "colab": {},
    "colab_type": "code",
    "id": "_Df-bWqtoxX9"
   },
   "outputs": [],
   "source": [
    "model = tflearn.DNN(net, tensorboard_verbose=0)"
   ]
  },
  {
   "cell_type": "code",
   "execution_count": 9,
   "metadata": {
    "colab": {
     "base_uri": "https://localhost:8080/",
     "height": 101
    },
    "colab_type": "code",
    "id": "oOQ0IrTDqNDq",
    "outputId": "590a7e36-af43-4bfa-edac-83c922bfd56b"
   },
   "outputs": [
    {
     "name": "stdout",
     "output_type": "stream",
     "text": [
      "Training Step: 9379  | total loss: \u001b[1m\u001b[32m0.00526\u001b[0m\u001b[0m | time: 628.197s\n",
      "| Adam | epoch: 010 | loss: 0.00526 - acc: 0.9995 -- iter: 22488/22500\n",
      "Training Step: 9380  | total loss: \u001b[1m\u001b[32m0.00544\u001b[0m\u001b[0m | time: 638.304s\n",
      "| Adam | epoch: 010 | loss: 0.00544 - acc: 0.9996 | val_loss: 1.19827 - val_acc: 0.8016 -- iter: 22500/22500\n",
      "--\n"
     ]
    }
   ],
   "source": [
    "model.fit(trainX, trainY, validation_set=(testX, testY), show_metric=True, batch_size=24)"
   ]
  },
  {
   "cell_type": "code",
   "execution_count": null,
   "metadata": {
    "colab": {},
    "colab_type": "code",
    "id": "jg92esOLOPKF"
   },
   "outputs": [],
   "source": []
  }
 ],
 "metadata": {
  "accelerator": "GPU",
  "colab": {
   "name": "sentiment_analyzer.ipynb",
   "provenance": [],
   "version": "0.3.2"
  },
  "kernelspec": {
   "display_name": "Python 3",
   "language": "python",
   "name": "python3"
  },
  "language_info": {
   "codemirror_mode": {
    "name": "ipython",
    "version": 3
   },
   "file_extension": ".py",
   "mimetype": "text/x-python",
   "name": "python",
   "nbconvert_exporter": "python",
   "pygments_lexer": "ipython3",
   "version": "3.6.8"
  }
 },
 "nbformat": 4,
 "nbformat_minor": 2
}
